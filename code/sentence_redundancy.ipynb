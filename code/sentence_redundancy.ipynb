{
 "cells": [
  {
   "cell_type": "code",
   "execution_count": 1,
   "metadata": {},
   "outputs": [],
   "source": [
    "import pandas as pd"
   ]
  },
  {
   "cell_type": "code",
   "execution_count": 2,
   "metadata": {},
   "outputs": [
    {
     "data": {
      "text/html": [
       "<div>\n",
       "<style scoped>\n",
       "    .dataframe tbody tr th:only-of-type {\n",
       "        vertical-align: middle;\n",
       "    }\n",
       "\n",
       "    .dataframe tbody tr th {\n",
       "        vertical-align: top;\n",
       "    }\n",
       "\n",
       "    .dataframe thead th {\n",
       "        text-align: right;\n",
       "    }\n",
       "</style>\n",
       "<table border=\"1\" class=\"dataframe\">\n",
       "  <thead>\n",
       "    <tr style=\"text-align: right;\">\n",
       "      <th></th>\n",
       "      <th>subject_id</th>\n",
       "      <th>hadm_id</th>\n",
       "      <th>seq_num</th>\n",
       "      <th>icd_code</th>\n",
       "      <th>icd_version</th>\n",
       "      <th>diagnosis_category</th>\n",
       "      <th>gender</th>\n",
       "      <th>anchor_age</th>\n",
       "      <th>anchor_year</th>\n",
       "      <th>anchor_year_group</th>\n",
       "      <th>...</th>\n",
       "      <th>note_id</th>\n",
       "      <th>note_type</th>\n",
       "      <th>note_seq</th>\n",
       "      <th>charttime</th>\n",
       "      <th>storetime</th>\n",
       "      <th>text</th>\n",
       "      <th>note_length</th>\n",
       "      <th>anchor_date</th>\n",
       "      <th>days_since_anchor</th>\n",
       "      <th>cleaned_note_text</th>\n",
       "    </tr>\n",
       "  </thead>\n",
       "  <tbody>\n",
       "    <tr>\n",
       "      <th>0</th>\n",
       "      <td>10070024</td>\n",
       "      <td>26769931</td>\n",
       "      <td>1</td>\n",
       "      <td>F323</td>\n",
       "      <td>10</td>\n",
       "      <td>Major Depression</td>\n",
       "      <td>F</td>\n",
       "      <td>23</td>\n",
       "      <td>2142</td>\n",
       "      <td>2014 - 2016</td>\n",
       "      <td>...</td>\n",
       "      <td>10070024-DS-13</td>\n",
       "      <td>DS</td>\n",
       "      <td>13.0</td>\n",
       "      <td>2145-01-29</td>\n",
       "      <td>2145-01-29 09:59:00</td>\n",
       "      <td>\\nName:  ___                   Unit No:   ___...</td>\n",
       "      <td>20409</td>\n",
       "      <td>2142-01-01</td>\n",
       "      <td>1124</td>\n",
       "      <td>\\nName:  ___                   Unit No:   ___...</td>\n",
       "    </tr>\n",
       "    <tr>\n",
       "      <th>1</th>\n",
       "      <td>10070024</td>\n",
       "      <td>26398294</td>\n",
       "      <td>1</td>\n",
       "      <td>F3189</td>\n",
       "      <td>10</td>\n",
       "      <td>Bipolar Disorder</td>\n",
       "      <td>F</td>\n",
       "      <td>23</td>\n",
       "      <td>2142</td>\n",
       "      <td>2014 - 2016</td>\n",
       "      <td>...</td>\n",
       "      <td>10070024-DS-14</td>\n",
       "      <td>DS</td>\n",
       "      <td>14.0</td>\n",
       "      <td>2145-02-09</td>\n",
       "      <td>2145-02-09 11:46:00</td>\n",
       "      <td>\\nName:  ___                   Unit No:   ___...</td>\n",
       "      <td>17868</td>\n",
       "      <td>2142-01-01</td>\n",
       "      <td>1135</td>\n",
       "      <td>Chief Complaint:\\n\"I made a mistake. \"\\n \\nMaj...</td>\n",
       "    </tr>\n",
       "    <tr>\n",
       "      <th>2</th>\n",
       "      <td>10080985</td>\n",
       "      <td>24679803</td>\n",
       "      <td>1</td>\n",
       "      <td>F332</td>\n",
       "      <td>10</td>\n",
       "      <td>Major Depression</td>\n",
       "      <td>F</td>\n",
       "      <td>22</td>\n",
       "      <td>2179</td>\n",
       "      <td>2014 - 2016</td>\n",
       "      <td>...</td>\n",
       "      <td>10080985-DS-16</td>\n",
       "      <td>DS</td>\n",
       "      <td>16.0</td>\n",
       "      <td>2179-05-13</td>\n",
       "      <td>2179-05-13 15:28:00</td>\n",
       "      <td>\\nName:  ___                   Unit No:   ___...</td>\n",
       "      <td>14035</td>\n",
       "      <td>2179-01-01</td>\n",
       "      <td>132</td>\n",
       "      <td>\\nName:  ___                   Unit No:   ___...</td>\n",
       "    </tr>\n",
       "    <tr>\n",
       "      <th>3</th>\n",
       "      <td>10080985</td>\n",
       "      <td>26523165</td>\n",
       "      <td>1</td>\n",
       "      <td>F329</td>\n",
       "      <td>10</td>\n",
       "      <td>Major Depression</td>\n",
       "      <td>F</td>\n",
       "      <td>22</td>\n",
       "      <td>2179</td>\n",
       "      <td>2014 - 2016</td>\n",
       "      <td>...</td>\n",
       "      <td>10080985-DS-15</td>\n",
       "      <td>DS</td>\n",
       "      <td>15.0</td>\n",
       "      <td>2179-05-11</td>\n",
       "      <td>2180-08-14 18:55:00</td>\n",
       "      <td>\\nName:  ___                   Unit No:   ___...</td>\n",
       "      <td>7168</td>\n",
       "      <td>2179-01-01</td>\n",
       "      <td>130</td>\n",
       "      <td>Chief Complaint:\\ngenetic predisposition to br...</td>\n",
       "    </tr>\n",
       "    <tr>\n",
       "      <th>4</th>\n",
       "      <td>10266157</td>\n",
       "      <td>29245849</td>\n",
       "      <td>1</td>\n",
       "      <td>F332</td>\n",
       "      <td>10</td>\n",
       "      <td>Major Depression</td>\n",
       "      <td>F</td>\n",
       "      <td>76</td>\n",
       "      <td>2194</td>\n",
       "      <td>2011 - 2013</td>\n",
       "      <td>...</td>\n",
       "      <td>10266157-DS-22</td>\n",
       "      <td>DS</td>\n",
       "      <td>22.0</td>\n",
       "      <td>2198-10-22</td>\n",
       "      <td>2198-10-26 07:11:00</td>\n",
       "      <td>\\nName:  ___                  Unit No:   ___\\...</td>\n",
       "      <td>11648</td>\n",
       "      <td>2194-01-01</td>\n",
       "      <td>1755</td>\n",
       "      <td>\\nName:  ___                  Unit No:   ___\\...</td>\n",
       "    </tr>\n",
       "  </tbody>\n",
       "</table>\n",
       "<p>5 rows × 21 columns</p>\n",
       "</div>"
      ],
      "text/plain": [
       "   subject_id   hadm_id  seq_num icd_code  icd_version diagnosis_category  \\\n",
       "0    10070024  26769931        1     F323           10   Major Depression   \n",
       "1    10070024  26398294        1    F3189           10   Bipolar Disorder   \n",
       "2    10080985  24679803        1     F332           10   Major Depression   \n",
       "3    10080985  26523165        1     F329           10   Major Depression   \n",
       "4    10266157  29245849        1     F332           10   Major Depression   \n",
       "\n",
       "  gender  anchor_age  anchor_year anchor_year_group  ...         note_id  \\\n",
       "0      F          23         2142       2014 - 2016  ...  10070024-DS-13   \n",
       "1      F          23         2142       2014 - 2016  ...  10070024-DS-14   \n",
       "2      F          22         2179       2014 - 2016  ...  10080985-DS-16   \n",
       "3      F          22         2179       2014 - 2016  ...  10080985-DS-15   \n",
       "4      F          76         2194       2011 - 2013  ...  10266157-DS-22   \n",
       "\n",
       "  note_type note_seq   charttime            storetime  \\\n",
       "0        DS     13.0  2145-01-29  2145-01-29 09:59:00   \n",
       "1        DS     14.0  2145-02-09  2145-02-09 11:46:00   \n",
       "2        DS     16.0  2179-05-13  2179-05-13 15:28:00   \n",
       "3        DS     15.0  2179-05-11  2180-08-14 18:55:00   \n",
       "4        DS     22.0  2198-10-22  2198-10-26 07:11:00   \n",
       "\n",
       "                                                text note_length  anchor_date  \\\n",
       "0   \\nName:  ___                   Unit No:   ___...       20409   2142-01-01   \n",
       "1   \\nName:  ___                   Unit No:   ___...       17868   2142-01-01   \n",
       "2   \\nName:  ___                   Unit No:   ___...       14035   2179-01-01   \n",
       "3   \\nName:  ___                   Unit No:   ___...        7168   2179-01-01   \n",
       "4   \\nName:  ___                  Unit No:   ___\\...       11648   2194-01-01   \n",
       "\n",
       "  days_since_anchor                                  cleaned_note_text  \n",
       "0              1124   \\nName:  ___                   Unit No:   ___...  \n",
       "1              1135  Chief Complaint:\\n\"I made a mistake. \"\\n \\nMaj...  \n",
       "2               132   \\nName:  ___                   Unit No:   ___...  \n",
       "3               130  Chief Complaint:\\ngenetic predisposition to br...  \n",
       "4              1755   \\nName:  ___                  Unit No:   ___\\...  \n",
       "\n",
       "[5 rows x 21 columns]"
      ]
     },
     "execution_count": 2,
     "metadata": {},
     "output_type": "execute_result"
    }
   ],
   "source": [
    "df_multiple_notes = pd.read_csv(\"../data/cleaned_notes.csv\")\n",
    "df_multiple_notes.head()"
   ]
  },
  {
   "cell_type": "code",
   "execution_count": 3,
   "metadata": {},
   "outputs": [],
   "source": [
    "#!pip install --quiet nltk Levenshtein"
   ]
  },
  {
   "cell_type": "code",
   "execution_count": 7,
   "metadata": {},
   "outputs": [],
   "source": [
    "import spacy\n",
    "\n",
    "# Load English tokenizer, tagger, parser and NER\n",
    "nlp = spacy.load(\"en_core_web_sm\")\n",
    "\n",
    "def split_into_sentences(text):\n",
    "    doc = nlp(text)\n",
    "    return [sent.text.strip() for sent in doc.sents if sent.text.strip()]"
   ]
  },
  {
   "cell_type": "code",
   "execution_count": 4,
   "metadata": {},
   "outputs": [],
   "source": [
    "from nltk.util import ngrams\n",
    "\n",
    "# Match sentences exactly\n",
    "def exact_sentence_match(curr_sentences, prev_sentences):\n",
    "    prev_set = set(prev_sentences)\n",
    "    return [sent for sent in curr_sentences if sent in prev_set]\n",
    "\n",
    "# Match n-grams (6-10 words)\n",
    "def exact_ngram_match(curr_sentences, prev_sentences, n_min=6, n_max=10):\n",
    "    prev_ngrams = set()\n",
    "    for sent in prev_sentences:\n",
    "        tokens = sent.split()\n",
    "        for n in range(n_min, n_max+1):\n",
    "            prev_ngrams.update(ngrams(tokens, n))\n",
    "\n",
    "    filtered_sentences = []\n",
    "    for sent in curr_sentences:\n",
    "        tokens = sent.split()\n",
    "        keep = True\n",
    "        for n in range(n_min, n_max+1):\n",
    "            for gram in ngrams(tokens, n):\n",
    "                if gram in prev_ngrams:\n",
    "                    keep = False\n",
    "                    break\n",
    "            if not keep:\n",
    "                break\n",
    "        if keep:\n",
    "            filtered_sentences.append(sent)\n",
    "    return filtered_sentences\n"
   ]
  },
  {
   "cell_type": "code",
   "execution_count": 5,
   "metadata": {},
   "outputs": [],
   "source": [
    "import Levenshtein\n",
    "\n",
    "def levenshtein_match(curr_sentences, prev_sentences, threshold=0.85):\n",
    "    repeated = []\n",
    "    for curr in curr_sentences:\n",
    "        if any(Levenshtein.ratio(curr, prev) >= threshold for prev in prev_sentences):\n",
    "            repeated.append(curr)\n",
    "    return repeated\n"
   ]
  },
  {
   "cell_type": "code",
   "execution_count": 8,
   "metadata": {},
   "outputs": [],
   "source": [
    "from collections import Counter\n",
    "\n",
    "methods = {\n",
    "    \"Exact Sentence Match\": exact_sentence_match,\n",
    "    \"Exact Ngram Match\": exact_ngram_match,\n",
    "    \"Levenshtein Match\": levenshtein_match,\n",
    "    # \"Cosine Match\": cosine_match,\n",
    "    # \"Sentence Transformer Match\": sentence_transformer_match,\n",
    "}\n",
    "\n",
    "# To record results\n",
    "results = {\n",
    "    method: {\n",
    "        \"total_sentences\": 0,\n",
    "        \"repeated_sentences\": 0,\n",
    "        \"total_words\": 0,\n",
    "        \"repeated_words\": 0\n",
    "    } for method in methods.keys()\n",
    "}\n",
    "\n",
    "# Sort the notes first\n",
    "df_multiple_notes['storetime'] = pd.to_datetime(df_multiple_notes['storetime'])\n",
    "df_multiple_notes = df_multiple_notes.sort_values(by=[\"subject_id\", \"storetime\"])\n",
    "\n",
    "for subject_id, group in df_multiple_notes.groupby('subject_id'):\n",
    "    group = group.sort_values('storetime')\n",
    "    prev_note = None\n",
    "    \n",
    "    for idx, row in group.iterrows():\n",
    "        curr_note = row['text']\n",
    "        curr_sentences = split_into_sentences(curr_note)\n",
    "        curr_words = sum(len(sent.split()) for sent in curr_sentences)\n",
    "\n",
    "        if prev_note:\n",
    "            prev_sentences = split_into_sentences(prev_note)\n",
    "\n",
    "            for method_name, method_func in methods.items():\n",
    "                repeated_sents = method_func(curr_sentences, prev_sentences)\n",
    "                repeated_words = sum(len(sent.split()) for sent in repeated_sents)\n",
    "\n",
    "                results[method_name][\"total_sentences\"] += len(curr_sentences)\n",
    "                results[method_name][\"repeated_sentences\"] += len(repeated_sents)\n",
    "                results[method_name][\"total_words\"] += curr_words\n",
    "                results[method_name][\"repeated_words\"] += repeated_words\n",
    "\n",
    "        prev_note = curr_note  # next iteration"
   ]
  },
  {
   "cell_type": "code",
   "execution_count": 9,
   "metadata": {},
   "outputs": [
    {
     "name": "stdout",
     "output_type": "stream",
     "text": [
      "\n",
      " Exact Sentence Match\n",
      "  - Total sentences: 59816\n",
      "  - Repeated sentences: 6792 (11.35%)\n",
      "  - Total words: 905795\n",
      "  - Repeated words: 63276 (6.99%)\n",
      "\n",
      " Exact Ngram Match\n",
      "  - Total sentences: 59816\n",
      "  - Repeated sentences: 50852 (85.01%)\n",
      "  - Total words: 905795\n",
      "  - Repeated words: 699583 (77.23%)\n",
      "\n",
      " Levenshtein Match\n",
      "  - Total sentences: 59816\n",
      "  - Repeated sentences: 10693 (17.88%)\n",
      "  - Total words: 905795\n",
      "  - Repeated words: 120173 (13.27%)\n"
     ]
    }
   ],
   "source": [
    "for method_name, stat in results.items():\n",
    "    sent_total = stat[\"total_sentences\"]\n",
    "    sent_repeated = stat[\"repeated_sentences\"]\n",
    "    word_total = stat[\"total_words\"]\n",
    "    word_repeated = stat[\"repeated_words\"]\n",
    "\n",
    "    sent_ratio = (sent_repeated / sent_total * 100) if sent_total else 0\n",
    "    word_ratio = (word_repeated / word_total * 100) if word_total else 0\n",
    "\n",
    "    print(f\"\\n {method_name}\")\n",
    "    print(f\"  - Total sentences: {sent_total}\")\n",
    "    print(f\"  - Repeated sentences: {sent_repeated} ({sent_ratio:.2f}%)\")\n",
    "    print(f\"  - Total words: {word_total}\")\n",
    "    print(f\"  - Repeated words: {word_repeated} ({word_ratio:.2f}%)\")\n"
   ]
  },
  {
   "cell_type": "code",
   "execution_count": 10,
   "metadata": {},
   "outputs": [
    {
     "name": "stdout",
     "output_type": "stream",
     "text": [
      "Collecting sentence-transformers\n",
      "  Downloading sentence_transformers-4.1.0-py3-none-any.whl.metadata (13 kB)\n",
      "Requirement already satisfied: transformers<5.0.0,>=4.41.0 in /home/fli49/.conda/envs/deeplearning/lib/python3.9/site-packages (from sentence-transformers) (4.50.3)\n",
      "Requirement already satisfied: tqdm in /home/fli49/.conda/envs/deeplearning/lib/python3.9/site-packages (from sentence-transformers) (4.67.1)\n",
      "Requirement already satisfied: torch>=1.11.0 in /home/fli49/.conda/envs/deeplearning/lib/python3.9/site-packages (from sentence-transformers) (2.6.0)\n",
      "Collecting scikit-learn (from sentence-transformers)\n",
      "  Downloading scikit_learn-1.6.1-cp39-cp39-manylinux_2_17_x86_64.manylinux2014_x86_64.whl.metadata (18 kB)\n",
      "Collecting scipy (from sentence-transformers)\n",
      "  Downloading scipy-1.13.1-cp39-cp39-manylinux_2_17_x86_64.manylinux2014_x86_64.whl.metadata (60 kB)\n",
      "Requirement already satisfied: huggingface-hub>=0.20.0 in /home/fli49/.conda/envs/deeplearning/lib/python3.9/site-packages (from sentence-transformers) (0.30.1)\n",
      "Requirement already satisfied: Pillow in /home/fli49/.conda/envs/deeplearning/lib/python3.9/site-packages (from sentence-transformers) (11.1.0)\n",
      "Requirement already satisfied: typing_extensions>=4.5.0 in /home/fli49/.conda/envs/deeplearning/lib/python3.9/site-packages (from sentence-transformers) (4.12.2)\n",
      "Requirement already satisfied: filelock in /home/fli49/.conda/envs/deeplearning/lib/python3.9/site-packages (from huggingface-hub>=0.20.0->sentence-transformers) (3.18.0)\n",
      "Requirement already satisfied: fsspec>=2023.5.0 in /home/fli49/.conda/envs/deeplearning/lib/python3.9/site-packages (from huggingface-hub>=0.20.0->sentence-transformers) (2025.3.2)\n",
      "Requirement already satisfied: packaging>=20.9 in /home/fli49/.conda/envs/deeplearning/lib/python3.9/site-packages (from huggingface-hub>=0.20.0->sentence-transformers) (24.2)\n",
      "Requirement already satisfied: pyyaml>=5.1 in /home/fli49/.conda/envs/deeplearning/lib/python3.9/site-packages (from huggingface-hub>=0.20.0->sentence-transformers) (6.0.2)\n",
      "Requirement already satisfied: requests in /home/fli49/.conda/envs/deeplearning/lib/python3.9/site-packages (from huggingface-hub>=0.20.0->sentence-transformers) (2.32.3)\n",
      "Requirement already satisfied: networkx in /home/fli49/.conda/envs/deeplearning/lib/python3.9/site-packages (from torch>=1.11.0->sentence-transformers) (3.2.1)\n",
      "Requirement already satisfied: jinja2 in /home/fli49/.conda/envs/deeplearning/lib/python3.9/site-packages (from torch>=1.11.0->sentence-transformers) (3.1.6)\n",
      "Requirement already satisfied: nvidia-cuda-nvrtc-cu12==12.4.127 in /home/fli49/.conda/envs/deeplearning/lib/python3.9/site-packages (from torch>=1.11.0->sentence-transformers) (12.4.127)\n",
      "Requirement already satisfied: nvidia-cuda-runtime-cu12==12.4.127 in /home/fli49/.conda/envs/deeplearning/lib/python3.9/site-packages (from torch>=1.11.0->sentence-transformers) (12.4.127)\n",
      "Requirement already satisfied: nvidia-cuda-cupti-cu12==12.4.127 in /home/fli49/.conda/envs/deeplearning/lib/python3.9/site-packages (from torch>=1.11.0->sentence-transformers) (12.4.127)\n",
      "Requirement already satisfied: nvidia-cudnn-cu12==9.1.0.70 in /home/fli49/.conda/envs/deeplearning/lib/python3.9/site-packages (from torch>=1.11.0->sentence-transformers) (9.1.0.70)\n",
      "Requirement already satisfied: nvidia-cublas-cu12==12.4.5.8 in /home/fli49/.conda/envs/deeplearning/lib/python3.9/site-packages (from torch>=1.11.0->sentence-transformers) (12.4.5.8)\n",
      "Requirement already satisfied: nvidia-cufft-cu12==11.2.1.3 in /home/fli49/.conda/envs/deeplearning/lib/python3.9/site-packages (from torch>=1.11.0->sentence-transformers) (11.2.1.3)\n",
      "Requirement already satisfied: nvidia-curand-cu12==10.3.5.147 in /home/fli49/.conda/envs/deeplearning/lib/python3.9/site-packages (from torch>=1.11.0->sentence-transformers) (10.3.5.147)\n",
      "Requirement already satisfied: nvidia-cusolver-cu12==11.6.1.9 in /home/fli49/.conda/envs/deeplearning/lib/python3.9/site-packages (from torch>=1.11.0->sentence-transformers) (11.6.1.9)\n",
      "Requirement already satisfied: nvidia-cusparse-cu12==12.3.1.170 in /home/fli49/.conda/envs/deeplearning/lib/python3.9/site-packages (from torch>=1.11.0->sentence-transformers) (12.3.1.170)\n",
      "Requirement already satisfied: nvidia-cusparselt-cu12==0.6.2 in /home/fli49/.conda/envs/deeplearning/lib/python3.9/site-packages (from torch>=1.11.0->sentence-transformers) (0.6.2)\n",
      "Requirement already satisfied: nvidia-nccl-cu12==2.21.5 in /home/fli49/.conda/envs/deeplearning/lib/python3.9/site-packages (from torch>=1.11.0->sentence-transformers) (2.21.5)\n",
      "Requirement already satisfied: nvidia-nvtx-cu12==12.4.127 in /home/fli49/.conda/envs/deeplearning/lib/python3.9/site-packages (from torch>=1.11.0->sentence-transformers) (12.4.127)\n",
      "Requirement already satisfied: nvidia-nvjitlink-cu12==12.4.127 in /home/fli49/.conda/envs/deeplearning/lib/python3.9/site-packages (from torch>=1.11.0->sentence-transformers) (12.4.127)\n",
      "Requirement already satisfied: triton==3.2.0 in /home/fli49/.conda/envs/deeplearning/lib/python3.9/site-packages (from torch>=1.11.0->sentence-transformers) (3.2.0)\n",
      "Requirement already satisfied: sympy==1.13.1 in /home/fli49/.conda/envs/deeplearning/lib/python3.9/site-packages (from torch>=1.11.0->sentence-transformers) (1.13.1)\n",
      "Requirement already satisfied: mpmath<1.4,>=1.1.0 in /home/fli49/.conda/envs/deeplearning/lib/python3.9/site-packages (from sympy==1.13.1->torch>=1.11.0->sentence-transformers) (1.3.0)\n",
      "Requirement already satisfied: numpy>=1.17 in /home/fli49/.conda/envs/deeplearning/lib/python3.9/site-packages (from transformers<5.0.0,>=4.41.0->sentence-transformers) (2.0.2)\n",
      "Requirement already satisfied: regex!=2019.12.17 in /home/fli49/.conda/envs/deeplearning/lib/python3.9/site-packages (from transformers<5.0.0,>=4.41.0->sentence-transformers) (2024.11.6)\n",
      "Requirement already satisfied: tokenizers<0.22,>=0.21 in /home/fli49/.conda/envs/deeplearning/lib/python3.9/site-packages (from transformers<5.0.0,>=4.41.0->sentence-transformers) (0.21.1)\n",
      "Requirement already satisfied: safetensors>=0.4.3 in /home/fli49/.conda/envs/deeplearning/lib/python3.9/site-packages (from transformers<5.0.0,>=4.41.0->sentence-transformers) (0.5.3)\n",
      "Requirement already satisfied: joblib>=1.2.0 in /home/fli49/.conda/envs/deeplearning/lib/python3.9/site-packages (from scikit-learn->sentence-transformers) (1.4.2)\n",
      "Collecting threadpoolctl>=3.1.0 (from scikit-learn->sentence-transformers)\n",
      "  Downloading threadpoolctl-3.6.0-py3-none-any.whl.metadata (13 kB)\n",
      "Requirement already satisfied: MarkupSafe>=2.0 in /home/fli49/.conda/envs/deeplearning/lib/python3.9/site-packages (from jinja2->torch>=1.11.0->sentence-transformers) (3.0.2)\n",
      "Requirement already satisfied: charset-normalizer<4,>=2 in /home/fli49/.conda/envs/deeplearning/lib/python3.9/site-packages (from requests->huggingface-hub>=0.20.0->sentence-transformers) (3.3.2)\n",
      "Requirement already satisfied: idna<4,>=2.5 in /home/fli49/.conda/envs/deeplearning/lib/python3.9/site-packages (from requests->huggingface-hub>=0.20.0->sentence-transformers) (3.10)\n",
      "Requirement already satisfied: urllib3<3,>=1.21.1 in /home/fli49/.conda/envs/deeplearning/lib/python3.9/site-packages (from requests->huggingface-hub>=0.20.0->sentence-transformers) (2.3.0)\n",
      "Requirement already satisfied: certifi>=2017.4.17 in /home/fli49/.conda/envs/deeplearning/lib/python3.9/site-packages (from requests->huggingface-hub>=0.20.0->sentence-transformers) (2025.1.31)\n",
      "Downloading sentence_transformers-4.1.0-py3-none-any.whl (345 kB)\n",
      "Downloading scikit_learn-1.6.1-cp39-cp39-manylinux_2_17_x86_64.manylinux2014_x86_64.whl (13.5 MB)\n",
      "\u001b[2K   \u001b[90m━━━━━━━━━━━━━━━━━━━━━━━━━━━━━━━━━━━━━━━━\u001b[0m \u001b[32m13.5/13.5 MB\u001b[0m \u001b[31m3.8 MB/s\u001b[0m eta \u001b[36m0:00:00\u001b[0m \u001b[36m0:00:04\u001b[0m\n",
      "\u001b[?25hDownloading scipy-1.13.1-cp39-cp39-manylinux_2_17_x86_64.manylinux2014_x86_64.whl (38.6 MB)\n",
      "\u001b[2K   \u001b[90m━━━━━━━━━━━━━━━━━━━━━━━━━━━━━━━━━━━━━━━━\u001b[0m \u001b[32m38.6/38.6 MB\u001b[0m \u001b[31m58.1 MB/s\u001b[0m eta \u001b[36m0:00:00\u001b[0m00:01\u001b[0m00:01\u001b[0m\n",
      "\u001b[?25hDownloading threadpoolctl-3.6.0-py3-none-any.whl (18 kB)\n",
      "Installing collected packages: threadpoolctl, scipy, scikit-learn, sentence-transformers\n",
      "Successfully installed scikit-learn-1.6.1 scipy-1.13.1 sentence-transformers-4.1.0 threadpoolctl-3.6.0\n"
     ]
    }
   ],
   "source": [
    "!pip install sentence-transformers"
   ]
  },
  {
   "cell_type": "code",
   "execution_count": 11,
   "metadata": {},
   "outputs": [
    {
     "data": {
      "application/vnd.jupyter.widget-view+json": {
       "model_id": "b9d879f65fe14e85ac739379c8c17489",
       "version_major": 2,
       "version_minor": 0
      },
      "text/plain": [
       "modules.json:   0%|          | 0.00/349 [00:00<?, ?B/s]"
      ]
     },
     "metadata": {},
     "output_type": "display_data"
    },
    {
     "data": {
      "application/vnd.jupyter.widget-view+json": {
       "model_id": "981a21c55fd24d2285557053baa7df08",
       "version_major": 2,
       "version_minor": 0
      },
      "text/plain": [
       "config_sentence_transformers.json:   0%|          | 0.00/116 [00:00<?, ?B/s]"
      ]
     },
     "metadata": {},
     "output_type": "display_data"
    },
    {
     "data": {
      "application/vnd.jupyter.widget-view+json": {
       "model_id": "9f64b1de732849d8b560eac3b6a18cf7",
       "version_major": 2,
       "version_minor": 0
      },
      "text/plain": [
       "README.md:   0%|          | 0.00/10.4k [00:00<?, ?B/s]"
      ]
     },
     "metadata": {},
     "output_type": "display_data"
    },
    {
     "data": {
      "application/vnd.jupyter.widget-view+json": {
       "model_id": "111ea3a432774eceb85b87eb956e0276",
       "version_major": 2,
       "version_minor": 0
      },
      "text/plain": [
       "sentence_bert_config.json:   0%|          | 0.00/53.0 [00:00<?, ?B/s]"
      ]
     },
     "metadata": {},
     "output_type": "display_data"
    },
    {
     "data": {
      "application/vnd.jupyter.widget-view+json": {
       "model_id": "2f4c4ba6f7e1404eaedcbcd7e55eb871",
       "version_major": 2,
       "version_minor": 0
      },
      "text/plain": [
       "config.json:   0%|          | 0.00/571 [00:00<?, ?B/s]"
      ]
     },
     "metadata": {},
     "output_type": "display_data"
    },
    {
     "name": "stderr",
     "output_type": "stream",
     "text": [
      "Xet Storage is enabled for this repo, but the 'hf_xet' package is not installed. Falling back to regular HTTP download. For better performance, install the package with: `pip install huggingface_hub[hf_xet]` or `pip install hf_xet`\n"
     ]
    },
    {
     "data": {
      "application/vnd.jupyter.widget-view+json": {
       "model_id": "29321851a43146bb8c564d1e2049369e",
       "version_major": 2,
       "version_minor": 0
      },
      "text/plain": [
       "model.safetensors:   0%|          | 0.00/438M [00:00<?, ?B/s]"
      ]
     },
     "metadata": {},
     "output_type": "display_data"
    },
    {
     "data": {
      "application/vnd.jupyter.widget-view+json": {
       "model_id": "0a82dead822a461987165d31bc992e41",
       "version_major": 2,
       "version_minor": 0
      },
      "text/plain": [
       "tokenizer_config.json:   0%|          | 0.00/363 [00:00<?, ?B/s]"
      ]
     },
     "metadata": {},
     "output_type": "display_data"
    },
    {
     "data": {
      "application/vnd.jupyter.widget-view+json": {
       "model_id": "d139cf6cb90d46f596d45956f103948f",
       "version_major": 2,
       "version_minor": 0
      },
      "text/plain": [
       "vocab.txt:   0%|          | 0.00/232k [00:00<?, ?B/s]"
      ]
     },
     "metadata": {},
     "output_type": "display_data"
    },
    {
     "data": {
      "application/vnd.jupyter.widget-view+json": {
       "model_id": "594ac2a1e8334ed785ef4d88934b3932",
       "version_major": 2,
       "version_minor": 0
      },
      "text/plain": [
       "tokenizer.json:   0%|          | 0.00/466k [00:00<?, ?B/s]"
      ]
     },
     "metadata": {},
     "output_type": "display_data"
    },
    {
     "data": {
      "application/vnd.jupyter.widget-view+json": {
       "model_id": "4c404ce33b1347939cdc4f2cdf42e592",
       "version_major": 2,
       "version_minor": 0
      },
      "text/plain": [
       "special_tokens_map.json:   0%|          | 0.00/239 [00:00<?, ?B/s]"
      ]
     },
     "metadata": {},
     "output_type": "display_data"
    },
    {
     "data": {
      "application/vnd.jupyter.widget-view+json": {
       "model_id": "1881c4cd8359480e8024909102dafe5c",
       "version_major": 2,
       "version_minor": 0
      },
      "text/plain": [
       "config.json:   0%|          | 0.00/190 [00:00<?, ?B/s]"
      ]
     },
     "metadata": {},
     "output_type": "display_data"
    }
   ],
   "source": [
    "from sentence_transformers import SentenceTransformer\n",
    "\n",
    "# Load the model\n",
    "model = SentenceTransformer('all-mpnet-base-v2')"
   ]
  },
  {
   "cell_type": "code",
   "execution_count": 13,
   "metadata": {},
   "outputs": [],
   "source": [
    "# Repetition detection using MPNet + cosine similarity\n",
    "def mpnet_similarity_filter(curr_sentences, prev_sentences, threshold=0.85):\n",
    "    if not prev_sentences or not curr_sentences:\n",
    "        return []\n",
    "\n",
    "    embeddings_curr = model.encode(curr_sentences, convert_to_tensor=True)\n",
    "    embeddings_prev = model.encode(prev_sentences, convert_to_tensor=True)\n",
    "\n",
    "    repeated = []\n",
    "    for i in range(len(curr_sentences)):\n",
    "        scores = util.cos_sim(embeddings_curr[i], embeddings_prev)\n",
    "        if scores.max() >= threshold:\n",
    "            repeated.append(curr_sentences[i])\n",
    "    return repeated"
   ]
  },
  {
   "cell_type": "code",
   "execution_count": 17,
   "metadata": {},
   "outputs": [
    {
     "name": "stderr",
     "output_type": "stream",
     "text": [
      "huggingface/tokenizers: The current process just got forked, after parallelism has already been used. Disabling parallelism to avoid deadlocks...\n",
      "To disable this warning, you can either:\n",
      "\t- Avoid using `tokenizers` before the fork if possible\n",
      "\t- Explicitly set the environment variable TOKENIZERS_PARALLELISM=(true | false)\n"
     ]
    },
    {
     "name": "stdout",
     "output_type": "stream",
     "text": [
      "Requirement already satisfied: tqdm in /home/fli49/.conda/envs/deeplearning/lib/python3.9/site-packages (4.67.1)\n"
     ]
    }
   ],
   "source": [
    "#!pip install tqdm"
   ]
  },
  {
   "cell_type": "code",
   "execution_count": 14,
   "metadata": {},
   "outputs": [],
   "source": [
    "from tqdm import tqdm\n",
    "# Prepare result counters\n",
    "results = {\n",
    "    \"Sentence Transformer Match\": {\n",
    "        \"total_sentences\": 0,\n",
    "        \"repeated_sentences\": 0,\n",
    "        \"total_words\": 0,\n",
    "        \"repeated_words\": 0\n",
    "    }\n",
    "}\n",
    "\n",
    "# Ensure sorted notes\n",
    "df_multiple_notes['storetime'] = pd.to_datetime(df_multiple_notes['storetime'])\n",
    "df_multiple_notes = df_multiple_notes.sort_values(by=[\"subject_id\", \"storetime\"])\n",
    "\n",
    "# Process per patient\n",
    "for subject_id, group in tqdm(df_multiple_notes.groupby(\"subject_id\"), desc=\"Processing Patients\"):\n",
    "    group = group.sort_values(\"storetime\")\n",
    "    prev_note = None\n",
    "\n",
    "    for idx, row in group.iterrows():\n",
    "        curr_text = row['text']\n",
    "        curr_sentences = split_into_sentences(curr_text)\n",
    "        curr_word_count = sum(len(sent.split()) for sent in curr_sentences)\n",
    "\n",
    "        if prev_note:\n",
    "            prev_sentences = split_into_sentences(prev_note)\n",
    "            repeated_sents = mpnet_similarity_filter(curr_sentences, prev_sentences)\n",
    "            repeated_word_count = sum(len(sent.split()) for sent in repeated_sents)\n",
    "\n",
    "            stats = results[\"Sentence Transformer Match\"]\n",
    "            stats[\"total_sentences\"] += len(curr_sentences)\n",
    "            stats[\"repeated_sentences\"] += len(repeated_sents)\n",
    "            stats[\"total_words\"] += curr_word_count\n",
    "            stats[\"repeated_words\"] += repeated_word_count\n",
    "\n",
    "        prev_note = curr_text\n"
   ]
  },
  {
   "cell_type": "code",
   "execution_count": 16,
   "metadata": {},
   "outputs": [
    {
     "name": "stdout",
     "output_type": "stream",
     "text": [
      " Sentence Transformer Match (all-mpnet-base-v2)\n",
      "  - Total sentences: 59816\n",
      "  - Repeated sentences: 12649 (21.15%)\n",
      "  - Total words: 905795\n",
      "  - Repeated words: 149325 (16.49%)\n"
     ]
    }
   ],
   "source": [
    "stat = results[\"Sentence Transformer Match\"]\n",
    "sent_total = stat[\"total_sentences\"]\n",
    "sent_repeated = stat[\"repeated_sentences\"]\n",
    "word_total = stat[\"total_words\"]\n",
    "word_repeated = stat[\"repeated_words\"]\n",
    "\n",
    "sent_ratio = (sent_repeated / sent_total * 100) if sent_total else 0\n",
    "word_ratio = (word_repeated / word_total * 100) if word_total else 0\n",
    "\n",
    "print(f\" Sentence Transformer Match (all-mpnet-base-v2)\")\n",
    "print(f\"  - Total sentences: {sent_total}\")\n",
    "print(f\"  - Repeated sentences: {sent_repeated} ({sent_ratio:.2f}%)\")\n",
    "print(f\"  - Total words: {word_total}\")\n",
    "print(f\"  - Repeated words: {word_repeated} ({word_ratio:.2f}%)\")\n"
   ]
  }
 ],
 "metadata": {
  "kernelspec": {
   "display_name": "deeplearning",
   "language": "python",
   "name": "python3"
  },
  "language_info": {
   "codemirror_mode": {
    "name": "ipython",
    "version": 3
   },
   "file_extension": ".py",
   "mimetype": "text/x-python",
   "name": "python",
   "nbconvert_exporter": "python",
   "pygments_lexer": "ipython3",
   "version": "3.9.21"
  }
 },
 "nbformat": 4,
 "nbformat_minor": 2
}
